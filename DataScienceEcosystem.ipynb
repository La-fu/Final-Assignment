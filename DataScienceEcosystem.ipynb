{
 "cells": [
  {
   "cell_type": "markdown",
   "id": "bf3a3b28-773d-4bc4-8597-b8193b1ac3d4",
   "metadata": {},
   "source": [
    "<center>\n",
    "    <img src=\"https://cf-courses-data.s3.us.cloud-object-storage.appdomain.cloud/IBMDeveloperSkillsNetwork-DS0105EN-SkillsNetwork/labs/Module2/images/SN_web_lightmode.png\" width=\"300\" alt=\"cognitiveclass.ai logo\">\n",
    "</center>\n"
   ]
  },
  {
   "cell_type": "markdown",
   "id": "c40dce44-9069-48f5-8f45-7d1b42c6fd14",
   "metadata": {},
   "source": [
    "# Data Science Tools and Ecosystem"
   ]
  },
  {
   "cell_type": "markdown",
   "id": "38511fb1-1b6d-4c59-8d1f-b5a70628fbda",
   "metadata": {},
   "source": [
    "## Introducción\n",
    "### Este cuaderno de notas es la asignación final del Curso Herramientas para Ciencia de Datos. Resumirá lenguajes y Ecosistemas usados en Ciencia de Datos."
   ]
  },
  {
   "cell_type": "markdown",
   "id": "2fa73514-6b4e-48ae-b86a-e0b6a26ac73f",
   "metadata": {},
   "source": [
    "### Objetivos que cubrirá el cuaderno:"
   ]
  },
  {
   "cell_type": "markdown",
   "id": "86fe0060-55f0-4000-82f7-3ce7eb9b9bb4",
   "metadata": {},
   "source": [
    "- Listar lenguajes comunes en Ciencia de Datos\n",
    "- Listar bibliotecas usadas en Ciencia de Datos\n",
    "- Listar algunas herramientas muy usadas en Ciencia de Datos\n",
    "- Mostrar algunos ejemplos de implementación de celdas Markdowns y celdas de código"
   ]
  },
  {
   "cell_type": "markdown",
   "id": "b12c99c0-6c64-4a9b-86e1-402d0a69b1cc",
   "metadata": {},
   "source": [
    "### Algunos lenguajes populares en Ciencia de Datos son:"
   ]
  },
  {
   "cell_type": "markdown",
   "id": "64629611-8704-4962-a346-bf75b5c999fb",
   "metadata": {},
   "source": [
    "1. Python\n",
    "2. R\n",
    "3. Julia\n",
    "4. SQL\n",
    "5. Java\n",
    "6. C++\n",
    "7. Js"
   ]
  },
  {
   "cell_type": "markdown",
   "id": "0d679f3e-09d9-47dc-9175-91a431f6ec60",
   "metadata": {},
   "source": [
    "### Algunas bibliotecas comunmente usadas en Ciencia de Datos son:"
   ]
  },
  {
   "cell_type": "markdown",
   "id": "8a8bf96f-ce32-4088-bd0c-2f837d05962c",
   "metadata": {},
   "source": [
    "1. Pandas (Python)\n",
    "2. Matplotlib (Python)\n",
    "3. NumPy (Python)\n",
    "4. ggplot (R)\n",
    "5. stringr (R)\n",
    "6. Caret (R)"
   ]
  },
  {
   "cell_type": "markdown",
   "id": "376d3883-0b57-4462-817e-bf48bfed53e2",
   "metadata": {},
   "source": [
    "| Herramientas Ciencias de Datos | \n",
    "| -------| \n",
    "| Jupyter Notebook |\n",
    "| RStudio| \n",
    "| GitHub |"
   ]
  },
  {
   "cell_type": "markdown",
   "id": "2c428a06-699b-4181-8e97-db087a4ad6c5",
   "metadata": {},
   "source": [
    "### Ejemplos de operaciones aritméticas en Python"
   ]
  },
  {
   "cell_type": "code",
   "execution_count": 16,
   "id": "f35604e6-5185-4f91-a48e-b768203e2743",
   "metadata": {},
   "outputs": [],
   "source": [
    "# Evaluaremos la operación (3*4)+5"
   ]
  },
  {
   "cell_type": "code",
   "execution_count": 19,
   "id": "a1d8d40d-2686-4f3b-b32a-e2e5cd012d3b",
   "metadata": {},
   "outputs": [
    {
     "data": {
      "text/plain": [
       "17"
      ]
     },
     "execution_count": 19,
     "metadata": {},
     "output_type": "execute_result"
    }
   ],
   "source": [
    "(3*4)+5"
   ]
  },
  {
   "cell_type": "code",
   "execution_count": 18,
   "id": "5aa2fe05-0fc9-4c92-92a2-38d79edcb474",
   "metadata": {},
   "outputs": [],
   "source": [
    "# Con la siguiente operación convertiremos 200 minutos en horas."
   ]
  },
  {
   "cell_type": "code",
   "execution_count": 20,
   "id": "4936a1b6-aebb-46aa-bc34-1878c47d450b",
   "metadata": {},
   "outputs": [
    {
     "data": {
      "text/plain": [
       "3.3333333333333335"
      ]
     },
     "execution_count": 20,
     "metadata": {},
     "output_type": "execute_result"
    }
   ],
   "source": [
    "200/60"
   ]
  },
  {
   "cell_type": "markdown",
   "id": "ab6df4e5-84b7-4c4d-a3e3-0226af9233b1",
   "metadata": {},
   "source": [
    "## Autor"
   ]
  },
  {
   "cell_type": "markdown",
   "id": "0bb9529a-c012-434c-9bbd-a2af4a999b59",
   "metadata": {},
   "source": [
    "### *R Ehlich*"
   ]
  },
  {
   "cell_type": "code",
   "execution_count": null,
   "id": "a6ce61cc-461a-4a00-9d4d-db802c23200b",
   "metadata": {},
   "outputs": [],
   "source": []
  }
 ],
 "metadata": {
  "kernelspec": {
   "display_name": "Python 3 (ipykernel)",
   "language": "python",
   "name": "python3"
  },
  "language_info": {
   "codemirror_mode": {
    "name": "ipython",
    "version": 3
   },
   "file_extension": ".py",
   "mimetype": "text/x-python",
   "name": "python",
   "nbconvert_exporter": "python",
   "pygments_lexer": "ipython3",
   "version": "3.12.8"
  }
 },
 "nbformat": 4,
 "nbformat_minor": 5
}
